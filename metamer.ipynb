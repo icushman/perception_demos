{
 "cells": [
  {
   "cell_type": "code",
   "execution_count": 1,
   "metadata": {},
   "outputs": [],
   "source": [
    "import plotly.plotly as py\n",
    "import plotly.graph_objs as go\n",
    "import plotly.figure_factory as ff\n",
    "import plotly"
   ]
  },
  {
   "cell_type": "code",
   "execution_count": 2,
   "metadata": {},
   "outputs": [],
   "source": [
    "import numpy as np\n",
    "import matplotlib.pyplot as plt\n",
    "import pandas as pd"
   ]
  },
  {
   "cell_type": "code",
   "execution_count": 3,
   "metadata": {},
   "outputs": [],
   "source": [
    "from __future__ import print_function\n",
    "from ipywidgets import interact, interactive, fixed, interact_manual\n",
    "import ipywidgets as widgets"
   ]
  },
  {
   "cell_type": "code",
   "execution_count": 4,
   "metadata": {
    "scrolled": false
   },
   "outputs": [
    {
     "data": {
      "application/vnd.jupyter.widget-view+json": {
       "model_id": "fa34e60259044fa89ba80c82af31eb74",
       "version_major": 2,
       "version_minor": 0
      },
      "text/plain": [
       "interactive(children=(IntSlider(value=120, continuous_update=False, description='integer', max=270, min=120, s…"
      ]
     },
     "metadata": {},
     "output_type": "display_data"
    }
   ],
   "source": [
    "\n",
    "def gaussian(x, mu, sig):\n",
    "    return np.exp(-np.power(x - mu, 2.) / (2 * np.power(sig, 2.)))\n",
    "\n",
    "x_values = np.linspace(-500, 2000, 500)\n",
    "\n",
    "df = pd.DataFrame(x_values)\n",
    "\n",
    "class prgraph:\n",
    "    \n",
    "    def __init__(self, mu1=420, mu2=530, mu3=560):\n",
    "        for length, mu, sig in [('short', mu1, 120), ('medium', mu2, 120), ('long', mu3, 120)]:\n",
    "            df[length] = gaussian(x_values, mu, sig)\n",
    "    \n",
    "    def updates(self, step, curve=\"short\"):\n",
    "        df[curve] = df[curve].shift(step)\n",
    "        df[['short','medium','long']].plot();\n",
    "        \n",
    "    def show(self, integer):\n",
    "        fig, axes = plt.subplots(nrows=1, ncols=1)\n",
    "        \n",
    "        axes.set_ylim(.2,1.2)\n",
    "        axes.set_xlim(50,400)\n",
    "        axes\n",
    "        df[['short','medium','long']].plot(ax=axes)\n",
    "        \n",
    "        curvelist = ['short','medium','long']\n",
    "        \n",
    "        \n",
    "        for curve in curvelist:\n",
    "            plt.plot(integer, df[curve][integer], color='red', marker='o', markersize=4)\n",
    "            \n",
    "        print(f'response at {integer} nm: {str([curve + \":\" + f\"{df[curve][integer]:.2}\" for curve in curvelist])}')\n",
    "        \n",
    "    #def plotdot(self):\n",
    "        \n",
    "\n",
    "    #plt.show();\n",
    "    \n",
    "#def update()\n",
    "\n",
    "#generate()\n",
    "\n",
    "myplot = prgraph()\n",
    "\n",
    "#myplot.show(1)\n",
    "\n",
    "#myplot.updates(100)\n",
    "\n",
    "#myplot.show()\n",
    "\n",
    "interactive_plot = interactive(myplot.show, integer=(widgets.IntSlider(min=120,max=270,step=5,value=0,continuous_update=False)))\n",
    "output = interactive_plot.children[-1]\n",
    "output.layout.height = '350px'\n",
    "interactive_plot"
   ]
  }
 ],
 "metadata": {
  "kernelspec": {
   "display_name": "Python 3",
   "language": "python",
   "name": "python3"
  },
  "language_info": {
   "codemirror_mode": {
    "name": "ipython",
    "version": 3
   },
   "file_extension": ".py",
   "mimetype": "text/x-python",
   "name": "python",
   "nbconvert_exporter": "python",
   "pygments_lexer": "ipython3",
   "version": "3.7.0"
  }
 },
 "nbformat": 4,
 "nbformat_minor": 2
}
